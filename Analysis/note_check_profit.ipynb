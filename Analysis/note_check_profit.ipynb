{
 "cells": [
  {
   "cell_type": "markdown",
   "id": "4c9885d6-74fb-43a8-a0e8-80d9da96c03d",
   "metadata": {},
   "source": [
    "## Data Wrangling\n",
    "\n",
    "***"
   ]
  },
  {
   "cell_type": "code",
   "execution_count": 1,
   "id": "0758142f-5140-439e-94ee-27b88d1b5542",
   "metadata": {},
   "outputs": [],
   "source": [
    "import sqlite3\n",
    "import pandas as pd\n",
    "import numpy as np\n",
    "import os\n",
    "import matplotlib.pyplot as plt"
   ]
  },
  {
   "cell_type": "markdown",
   "id": "e780755d-d1d3-42ca-9cc2-d0f20707ee20",
   "metadata": {},
   "source": [
    "### Train Data"
   ]
  },
  {
   "cell_type": "code",
   "execution_count": 2,
   "id": "1d84c67d-39d8-4cf1-8dbd-714b204664b6",
   "metadata": {},
   "outputs": [
    {
     "name": "stdout",
     "output_type": "stream",
     "text": [
      "Total Profit:  817.0769399999997\n",
      "Winning Trades:  7894\n",
      "Losing Trades:  3894\n",
      "Win Rate:  0.669664065151001\n",
      "Mean Trade:  1.0145979522422086\n"
     ]
    },
    {
     "data": {
      "image/png": "[encoded data removed]",
      "text/plain": [
       "<Figure size 640x480 with 1 Axes>"
      ]
     },
     "metadata": {},
     "output_type": "display_data"
    }
   ],
   "source": [
    "# Activity log df\n",
    "conn1 = sqlite3.connect(\"ledger_train.db\")\n",
    "c1 = conn1.cursor()\n",
    "\n",
    "c1.execute(\"\"\"SELECT * FROM activity_log\"\"\")\n",
    "items_log = c1.fetchall()\n",
    "items_log_df = pd.DataFrame(items_log, columns=[\"Pair\", \"Z-Score\", \"Pair 1 Price\", \"Pair 2 Price\", \"Date Time\"]).drop(\"Date Time\", axis=1)\n",
    "\n",
    "# Trade log df and find profit\n",
    "c1.execute(\"\"\"SELECT * FROM tx_ledger WHERE status = 'CLOSED' \"\"\")\n",
    "trade_log = c1.fetchall()\n",
    "trade_log_df = pd.DataFrame(trade_log, columns=[\"Pair\", \"Type\", \"Open Date\", \"Close Date\", \"Status\", \"Units 1\", \"Units 2\", \"Pair 1 O\", \"Pair 2 O\", \"Pair 1 C\", \"Pair 2 C\"]).drop([\"Open Date\", \"Close Date\"], axis=1)\n",
    "\n",
    "trade_log_df = trade_log_df.dropna()\n",
    "\n",
    "trade_log_df[\"Profit Pair 1\"] = trade_log_df[\"Units 1\"] * trade_log_df[\"Pair 1 C\"] - trade_log_df[\"Units 1\"] * trade_log_df[\"Pair 1 O\"]\n",
    "trade_log_df[\"Profit Pair 2\"] = trade_log_df[\"Units 2\"] * trade_log_df[\"Pair 2 C\"] - trade_log_df[\"Units 2\"] * trade_log_df[\"Pair 2 O\"]\n",
    "\n",
    "trade_log_df[\"Profit Pair 1\"] = np.where(trade_log_df[\"Type\"] == \"Long\", trade_log_df[\"Profit Pair 1\"]*1, trade_log_df[\"Profit Pair 1\"]*-1)\n",
    "trade_log_df[\"Profit Pair 2\"] = np.where(trade_log_df[\"Type\"] == \"Long\", trade_log_df[\"Profit Pair 2\"]*-1, trade_log_df[\"Profit Pair 2\"]*1)\n",
    "\n",
    "trade_log_df[\"Profit\"] = trade_log_df[\"Profit Pair 1\"] + trade_log_df[\"Profit Pair 2\"]\n",
    "\n",
    "print(\"Total Profit: \", trade_log_df[\"Profit\"].sum())\n",
    "print(\"Winning Trades: \", len(trade_log_df[trade_log_df[\"Profit\"] > 0]))\n",
    "print(\"Losing Trades: \", len(trade_log_df[trade_log_df[\"Profit\"] < 0]))\n",
    "print(\"Win Rate: \", len(trade_log_df[trade_log_df[\"Profit\"] > 0]) / (len(trade_log_df[trade_log_df[\"Profit\"] > 0]) + len(trade_log_df[trade_log_df[\"Profit\"] < 0])))\n",
    "print(\"Mean Trade: \", trade_log_df[trade_log_df[\"Profit\"] > 0][\"Profit\"].mean())\n",
    "\n",
    "import matplotlib.pyplot as plt\n",
    "plt.hist(trade_log_df[trade_log_df[\"Profit\"] != 0][\"Profit\"], bins=60)\n",
    "plt.show()"
   ]
  },
  {
   "cell_type": "markdown",
   "id": "5e5b3f02-15e2-4357-9b2f-e65fdfcf9007",
   "metadata": {},
   "source": [
    "### Test Data"
   ]
  },
  {
   "cell_type": "code",
   "execution_count": 3,
   "id": "7e3db628-d60c-4030-927d-7c36e66bc5ea",
   "metadata": {},
   "outputs": [
    {
     "name": "stdout",
     "output_type": "stream",
     "text": [
      "Total Profit:  231.2925099999978\n",
      "Winning Trades:  782\n",
      "Losing Trades:  288\n",
      "Win Rate:  0.7308411214953271\n",
      "Mean Trade:  0.5775387915601004\n"
     ]
    },
    {
     "data": {
      "image/png": "[encoded data removed]",
      "text/plain": [
       "<Figure size 640x480 with 1 Axes>"
      ]
     },
     "metadata": {},
     "output_type": "display_data"
    }
   ],
   "source": [
    "# Activity log df\n",
    "conn2 = sqlite3.connect(\"ledger_test.db\")\n",
    "c2 = conn2.cursor()\n",
    "\n",
    "c2.execute(\"\"\"SELECT * FROM activity_log\"\"\")\n",
    "items_log = c2.fetchall()\n",
    "items_log_df = pd.DataFrame(items_log, columns=[\"Pair\", \"Z-Score\", \"Pair 1 Price\", \"Pair 2 Price\", \"Date Time\"]).drop(\"Date Time\", axis=1)\n",
    "\n",
    "# Trade log df and find profit\n",
    "c2.execute(\"\"\"SELECT * FROM tx_ledger WHERE status = 'CLOSED' \"\"\")\n",
    "trade_log = c2.fetchall()\n",
    "trade_log_df = pd.DataFrame(trade_log, columns=[\"Pair\", \"Type\", \"Open Date\", \"Close Date\", \"Status\", \"Units 1\", \"Units 2\", \"Pair 1 O\", \"Pair 2 O\", \"Pair 1 C\", \"Pair 2 C\"]).drop([\"Open Date\", \"Close Date\"], axis=1)\n",
    "\n",
    "trade_log_df = trade_log_df.dropna()\n",
    "\n",
    "trade_log_df[\"Profit Pair 1\"] = trade_log_df[\"Units 1\"] * trade_log_df[\"Pair 1 C\"] - trade_log_df[\"Units 1\"] * trade_log_df[\"Pair 1 O\"]\n",
    "trade_log_df[\"Profit Pair 2\"] = trade_log_df[\"Units 2\"] * trade_log_df[\"Pair 2 C\"] - trade_log_df[\"Units 2\"] * trade_log_df[\"Pair 2 O\"]\n",
    "\n",
    "trade_log_df[\"Profit Pair 1\"] = np.where(trade_log_df[\"Type\"] == \"Long\", trade_log_df[\"Profit Pair 1\"]*1, trade_log_df[\"Profit Pair 1\"]*-1)\n",
    "trade_log_df[\"Profit Pair 2\"] = np.where(trade_log_df[\"Type\"] == \"Long\", trade_log_df[\"Profit Pair 2\"]*-1, trade_log_df[\"Profit Pair 2\"]*1)\n",
    "\n",
    "trade_log_df[\"Profit\"] = trade_log_df[\"Profit Pair 1\"] + trade_log_df[\"Profit Pair 2\"]\n",
    "\n",
    "print(\"Total Profit: \", trade_log_df[\"Profit\"].sum())\n",
    "print(\"Winning Trades: \", len(trade_log_df[trade_log_df[\"Profit\"] > 0]))\n",
    "print(\"Losing Trades: \", len(trade_log_df[trade_log_df[\"Profit\"] < 0]))\n",
    "print(\"Win Rate: \", len(trade_log_df[trade_log_df[\"Profit\"] > 0]) / (len(trade_log_df[trade_log_df[\"Profit\"] > 0]) + len(trade_log_df[trade_log_df[\"Profit\"] < 0])))\n",
    "print(\"Mean Trade: \", trade_log_df[trade_log_df[\"Profit\"] > 0][\"Profit\"].mean())\n",
    "\n",
    "import matplotlib.pyplot as plt\n",
    "plt.hist(trade_log_df[trade_log_df[\"Profit\"] != 0][\"Profit\"], bins=60)\n",
    "plt.show()"
   ]
  },
  {
   "cell_type": "code",
   "execution_count": null,
   "id": "31349aa1-cf4e-4da7-aa2f-8cfd0199dee6",
   "metadata": {},
   "outputs": [],
   "source": []
  }
 ],
 "metadata": {
  "kernelspec": {
   "display_name": "Python 3 (ipykernel)",
   "language": "python",
   "name": "python3"
  },
  "language_info": {
   "codemirror_mode": {
    "name": "ipython",
    "version": 3
   },
   "file_extension": ".py",
   "mimetype": "text/x-python",
   "name": "python",
   "nbconvert_exporter": "python",
   "pygments_lexer": "ipython3",
   "version": "3.10.8"
  }
 },
 "nbformat": 4,
 "nbformat_minor": 5
}
